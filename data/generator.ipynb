{
 "metadata": {
  "language_info": {
   "codemirror_mode": {
    "name": "ipython",
    "version": 3
   },
   "file_extension": ".py",
   "mimetype": "text/x-python",
   "name": "python",
   "nbconvert_exporter": "python",
   "pygments_lexer": "ipython3",
   "version": "3.7.7"
  },
  "orig_nbformat": 2,
  "kernelspec": {
   "name": "python3",
   "language": "python",
   "display_name": "Python 3"
  }
 },
 "nbformat": 4,
 "nbformat_minor": 2,
 "cells": [
  {
   "cell_type": "code",
   "execution_count": 1,
   "metadata": {},
   "outputs": [],
   "source": [
    "import pandas as pd\n",
    "from sklearn import datasets\n",
    "import numpy as np\n",
    "import json"
   ]
  },
  {
   "source": [
    "News group"
   ],
   "cell_type": "markdown",
   "metadata": {}
  },
  {
   "cell_type": "code",
   "execution_count": 8,
   "metadata": {},
   "outputs": [],
   "source": [
    "newsgroup = datasets.fetch_20newsgroups_vectorized(data_home=\"real/cache\")"
   ]
  },
  {
   "source": [
    "California housing"
   ],
   "cell_type": "markdown",
   "metadata": {}
  },
  {
   "cell_type": "code",
   "execution_count": 3,
   "metadata": {},
   "outputs": [],
   "source": [
    "california_housing = datasets.fetch_california_housing(data_home=\"real/cache\")"
   ]
  },
  {
   "cell_type": "code",
   "execution_count": 39,
   "metadata": {},
   "outputs": [],
   "source": [
    "def pd_dataframe_from_dataset(dataset) -> pd.DataFrame:\n",
    "    return pd.DataFrame(\n",
    "        data=np.c_[dataset.data, dataset.target],\n",
    "        columns=dataset.feature_names + dataset.target_names\n",
    "    )"
   ]
  },
  {
   "cell_type": "code",
   "execution_count": 40,
   "metadata": {},
   "outputs": [],
   "source": [
    "pd_california_housing = pd_dataframe_from_dataset(california_housing)"
   ]
  },
  {
   "cell_type": "code",
   "execution_count": 41,
   "metadata": {},
   "outputs": [],
   "source": [
    "pd_california_housing.to_csv(\"cache/california_housing.csv\")\n",
    "with open(\"real/california_housing.json\", \"w\") as f:\n",
    "    json.dump({\n",
    "        \"path\": \"california_housing.csv\",\n",
    "        \"target\": california_housing.target_names[0],\n",
    "        \"categorical\": [],\n",
    "        \"ignore\": [],\n",
    "        \"numerical\": california_housing.feature_names,\n",
    "        \"ordinal\": {},\n",
    "        \"classification\": False\n",
    "    }, f)"
   ]
  },
  {
   "source": [
    "Cover type"
   ],
   "cell_type": "markdown",
   "metadata": {}
  },
  {
   "cell_type": "code",
   "execution_count": 18,
   "metadata": {},
   "outputs": [],
   "source": [
    "covtype = datasets.fetch_covtype()"
   ]
  },
  {
   "source": [
    "pd_covtype = pd.DataFrame(\n",
    "    data=np.c_[covtype.data, covtype.target],\n",
    "    columns=list(map(str, list(range(covtype.data.shape[1])))) + [\"target\"]\n",
    ")"
   ],
   "cell_type": "code",
   "metadata": {},
   "execution_count": 30,
   "outputs": []
  },
  {
   "source": [
    "pd_covtype = pd_covtype.astype(int)\n",
    "pd_covtype"
   ],
   "cell_type": "code",
   "metadata": {},
   "execution_count": null,
   "outputs": []
  },
  {
   "cell_type": "code",
   "execution_count": 42,
   "metadata": {},
   "outputs": [],
   "source": [
    "pd_covtype.to_csv(\"cache/pd_covtype.csv\")\n",
    "with open(\"real/pd_covtype.json\", \"w\") as f:\n",
    "    json.dump({\n",
    "        \"path\": \"pd_covtype.csv\",\n",
    "        \"target\": \"target\",\n",
    "        \"categorical\": [],\n",
    "        \"ignore\": [],\n",
    "        \"numerical\": list(map(str, list(range(covtype.data.shape[1])))),\n",
    "        \"ordinal\": {},\n",
    "        \"classification\": False\n",
    "    }, f)"
   ]
  },
  {
   "source": [
    "KDDCUP"
   ],
   "cell_type": "markdown",
   "metadata": {}
  },
  {
   "cell_type": "code",
   "execution_count": 43,
   "metadata": {},
   "outputs": [],
   "source": [
    "kddcup = datasets.fetch_kddcup99()"
   ]
  },
  {
   "cell_type": "code",
   "execution_count": 44,
   "metadata": {},
   "outputs": [
    {
     "output_type": "execute_result",
     "data": {
      "text/plain": [
       "{'data': array([[0, b'tcp', b'http', ..., 0.0, 0.0, 0.0],\n",
       "        [0, b'tcp', b'http', ..., 0.0, 0.0, 0.0],\n",
       "        [0, b'tcp', b'http', ..., 0.0, 0.0, 0.0],\n",
       "        ...,\n",
       "        [0, b'tcp', b'http', ..., 0.01, 0.0, 0.0],\n",
       "        [0, b'tcp', b'http', ..., 0.01, 0.0, 0.0],\n",
       "        [0, b'tcp', b'http', ..., 0.01, 0.0, 0.0]], dtype=object),\n",
       " 'target': array([b'normal.', b'normal.', b'normal.', ..., b'normal.', b'normal.',\n",
       "        b'normal.'], dtype=object),\n",
       " 'DESCR': \".. _kddcup99_dataset:\\n\\nKddcup 99 dataset\\n-----------------\\n\\nThe KDD Cup '99 dataset was created by processing the tcpdump portions\\nof the 1998 DARPA Intrusion Detection System (IDS) Evaluation dataset,\\ncreated by MIT Lincoln Lab [1]. The artificial data (described on the `dataset's\\nhomepage <https://kdd.ics.uci.edu/databases/kddcup99/kddcup99.html>`_) was\\ngenerated using a closed network and hand-injected attacks to produce a\\nlarge number of different types of attack with normal activity in the\\nbackground. As the initial goal was to produce a large training set for\\nsupervised learning algorithms, there is a large proportion (80.1%) of\\nabnormal data which is unrealistic in real world, and inappropriate for\\nunsupervised anomaly detection which aims at detecting 'abnormal' data, ie\\n\\n1) qualitatively different from normal data\\n\\n2) in large minority among the observations.\\n\\nWe thus transform the KDD Data set into two different data sets: SA and SF.\\n\\n-SA is obtained by simply selecting all the normal data, and a small\\nproportion of abnormal data to gives an anomaly proportion of 1%.\\n\\n-SF is obtained as in [2]\\nby simply picking up the data whose attribute logged_in is positive, thus\\nfocusing on the intrusion attack, which gives a proportion of 0.3% of\\nattack.\\n\\n-http and smtp are two subsets of SF corresponding with third feature\\nequal to 'http' (resp. to 'smtp')\\n\\nGeneral KDD structure :\\n\\n    ================      ==========================================\\n    Samples total         4898431\\n    Dimensionality        41\\n    Features              discrete (int) or continuous (float)\\n    Targets               str, 'normal.' or name of the anomaly type\\n    ================      ==========================================\\n\\n    SA structure :\\n\\n    ================      ==========================================\\n    Samples total         976158\\n    Dimensionality        41\\n    Features              discrete (int) or continuous (float)\\n    Targets               str, 'normal.' or name of the anomaly type\\n    ================      ==========================================\\n\\n    SF structure :\\n\\n    ================      ==========================================\\n    Samples total         699691\\n    Dimensionality        4\\n    Features              discrete (int) or continuous (float)\\n    Targets               str, 'normal.' or name of the anomaly type\\n    ================      ==========================================\\n\\n    http structure :\\n\\n    ================      ==========================================\\n    Samples total         619052\\n    Dimensionality        3\\n    Features              discrete (int) or continuous (float)\\n    Targets               str, 'normal.' or name of the anomaly type\\n    ================      ==========================================\\n\\n    smtp structure :\\n\\n    ================      ==========================================\\n    Samples total         95373\\n    Dimensionality        3\\n    Features              discrete (int) or continuous (float)\\n    Targets               str, 'normal.' or name of the anomaly type\\n    ================      ==========================================\\n\\n:func:`sklearn.datasets.fetch_kddcup99` will load the kddcup99 dataset; it\\nreturns a dictionary-like object with the feature matrix in the ``data`` member\\nand the target values in ``target``. The dataset will be downloaded from the\\nweb if necessary.\\n\\n.. topic: References\\n\\n    .. [1] Analysis and Results of the 1999 DARPA Off-Line Intrusion\\n           Detection Evaluation Richard Lippmann, Joshua W. Haines,\\n           David J. Fried, Jonathan Korba, Kumar Das\\n\\n    .. [2] K. Yamanishi, J.-I. Takeuchi, G. Williams, and P. Milne. Online\\n           unsupervised outlier detection using finite mixtures with\\n           discounting learning algorithms. In Proceedings of the sixth\\n           ACM SIGKDD international conference on Knowledge discovery\\n           and data mining, pages 320-324. ACM Press, 2000.\\n\\n\"}"
      ]
     },
     "metadata": {},
     "execution_count": 44
    }
   ],
   "source": [
    "kddcup "
   ]
  },
  {
   "cell_type": "code",
   "execution_count": 48,
   "metadata": {},
   "outputs": [
    {
     "output_type": "execute_result",
     "data": {
      "text/plain": [
       "(494021, 41)"
      ]
     },
     "metadata": {},
     "execution_count": 48
    }
   ],
   "source": [
    "kddcup.data.shape"
   ]
  },
  {
   "cell_type": "code",
   "execution_count": 49,
   "metadata": {},
   "outputs": [],
   "source": [
    "pd_kddcup = pd.DataFrame(\n",
    "    data=np.c_[kddcup.data, kddcup.target],\n",
    "    columns=list(map(str, list(range(kddcup.data.shape[1])))) + [\"target\"]\n",
    ")"
   ]
  },
  {
   "cell_type": "code",
   "execution_count": 52,
   "metadata": {},
   "outputs": [
    {
     "output_type": "execute_result",
     "data": {
      "text/plain": [
       "        0       1        2      3    4     5  6  7  8  9  ...   32 33 34  \\\n",
       "0       0  b'tcp'  b'http'  b'SF'  181  5450  0  0  0  0  ...    9  1  0   \n",
       "1       0  b'tcp'  b'http'  b'SF'  239   486  0  0  0  0  ...   19  1  0   \n",
       "2       0  b'tcp'  b'http'  b'SF'  235  1337  0  0  0  0  ...   29  1  0   \n",
       "3       0  b'tcp'  b'http'  b'SF'  219  1337  0  0  0  0  ...   39  1  0   \n",
       "4       0  b'tcp'  b'http'  b'SF'  217  2032  0  0  0  0  ...   49  1  0   \n",
       "...    ..     ...      ...    ...  ...   ... .. .. .. ..  ...  ... .. ..   \n",
       "494016  0  b'tcp'  b'http'  b'SF'  310  1881  0  0  0  0  ...  255  1  0   \n",
       "494017  0  b'tcp'  b'http'  b'SF'  282  2286  0  0  0  0  ...  255  1  0   \n",
       "494018  0  b'tcp'  b'http'  b'SF'  203  1200  0  0  0  0  ...  255  1  0   \n",
       "494019  0  b'tcp'  b'http'  b'SF'  291  1200  0  0  0  0  ...  255  1  0   \n",
       "494020  0  b'tcp'  b'http'  b'SF'  219  1234  0  0  0  0  ...  255  1  0   \n",
       "\n",
       "          35    36    37    38 39 40      target  \n",
       "0       0.11     0     0     0  0  0  b'normal.'  \n",
       "1       0.05     0     0     0  0  0  b'normal.'  \n",
       "2       0.03     0     0     0  0  0  b'normal.'  \n",
       "3       0.03     0     0     0  0  0  b'normal.'  \n",
       "4       0.02     0     0     0  0  0  b'normal.'  \n",
       "...      ...   ...   ...   ... .. ..         ...  \n",
       "494016  0.01  0.05     0  0.01  0  0  b'normal.'  \n",
       "494017  0.17  0.05     0  0.01  0  0  b'normal.'  \n",
       "494018  0.06  0.05  0.06  0.01  0  0  b'normal.'  \n",
       "494019  0.04  0.05  0.04  0.01  0  0  b'normal.'  \n",
       "494020  0.17  0.05     0  0.01  0  0  b'normal.'  \n",
       "\n",
       "[494021 rows x 42 columns]"
      ],
      "text/html": "<div>\n<style scoped>\n    .dataframe tbody tr th:only-of-type {\n        vertical-align: middle;\n    }\n\n    .dataframe tbody tr th {\n        vertical-align: top;\n    }\n\n    .dataframe thead th {\n        text-align: right;\n    }\n</style>\n<table border=\"1\" class=\"dataframe\">\n  <thead>\n    <tr style=\"text-align: right;\">\n      <th></th>\n      <th>0</th>\n      <th>1</th>\n      <th>2</th>\n      <th>3</th>\n      <th>4</th>\n      <th>5</th>\n      <th>6</th>\n      <th>7</th>\n      <th>8</th>\n      <th>9</th>\n      <th>...</th>\n      <th>32</th>\n      <th>33</th>\n      <th>34</th>\n      <th>35</th>\n      <th>36</th>\n      <th>37</th>\n      <th>38</th>\n      <th>39</th>\n      <th>40</th>\n      <th>target</th>\n    </tr>\n  </thead>\n  <tbody>\n    <tr>\n      <th>0</th>\n      <td>0</td>\n      <td>b'tcp'</td>\n      <td>b'http'</td>\n      <td>b'SF'</td>\n      <td>181</td>\n      <td>5450</td>\n      <td>0</td>\n      <td>0</td>\n      <td>0</td>\n      <td>0</td>\n      <td>...</td>\n      <td>9</td>\n      <td>1</td>\n      <td>0</td>\n      <td>0.11</td>\n      <td>0</td>\n      <td>0</td>\n      <td>0</td>\n      <td>0</td>\n      <td>0</td>\n      <td>b'normal.'</td>\n    </tr>\n    <tr>\n      <th>1</th>\n      <td>0</td>\n      <td>b'tcp'</td>\n      <td>b'http'</td>\n      <td>b'SF'</td>\n      <td>239</td>\n      <td>486</td>\n      <td>0</td>\n      <td>0</td>\n      <td>0</td>\n      <td>0</td>\n      <td>...</td>\n      <td>19</td>\n      <td>1</td>\n      <td>0</td>\n      <td>0.05</td>\n      <td>0</td>\n      <td>0</td>\n      <td>0</td>\n      <td>0</td>\n      <td>0</td>\n      <td>b'normal.'</td>\n    </tr>\n    <tr>\n      <th>2</th>\n      <td>0</td>\n      <td>b'tcp'</td>\n      <td>b'http'</td>\n      <td>b'SF'</td>\n      <td>235</td>\n      <td>1337</td>\n      <td>0</td>\n      <td>0</td>\n      <td>0</td>\n      <td>0</td>\n      <td>...</td>\n      <td>29</td>\n      <td>1</td>\n      <td>0</td>\n      <td>0.03</td>\n      <td>0</td>\n      <td>0</td>\n      <td>0</td>\n      <td>0</td>\n      <td>0</td>\n      <td>b'normal.'</td>\n    </tr>\n    <tr>\n      <th>3</th>\n      <td>0</td>\n      <td>b'tcp'</td>\n      <td>b'http'</td>\n      <td>b'SF'</td>\n      <td>219</td>\n      <td>1337</td>\n      <td>0</td>\n      <td>0</td>\n      <td>0</td>\n      <td>0</td>\n      <td>...</td>\n      <td>39</td>\n      <td>1</td>\n      <td>0</td>\n      <td>0.03</td>\n      <td>0</td>\n      <td>0</td>\n      <td>0</td>\n      <td>0</td>\n      <td>0</td>\n      <td>b'normal.'</td>\n    </tr>\n    <tr>\n      <th>4</th>\n      <td>0</td>\n      <td>b'tcp'</td>\n      <td>b'http'</td>\n      <td>b'SF'</td>\n      <td>217</td>\n      <td>2032</td>\n      <td>0</td>\n      <td>0</td>\n      <td>0</td>\n      <td>0</td>\n      <td>...</td>\n      <td>49</td>\n      <td>1</td>\n      <td>0</td>\n      <td>0.02</td>\n      <td>0</td>\n      <td>0</td>\n      <td>0</td>\n      <td>0</td>\n      <td>0</td>\n      <td>b'normal.'</td>\n    </tr>\n    <tr>\n      <th>...</th>\n      <td>...</td>\n      <td>...</td>\n      <td>...</td>\n      <td>...</td>\n      <td>...</td>\n      <td>...</td>\n      <td>...</td>\n      <td>...</td>\n      <td>...</td>\n      <td>...</td>\n      <td>...</td>\n      <td>...</td>\n      <td>...</td>\n      <td>...</td>\n      <td>...</td>\n      <td>...</td>\n      <td>...</td>\n      <td>...</td>\n      <td>...</td>\n      <td>...</td>\n      <td>...</td>\n    </tr>\n    <tr>\n      <th>494016</th>\n      <td>0</td>\n      <td>b'tcp'</td>\n      <td>b'http'</td>\n      <td>b'SF'</td>\n      <td>310</td>\n      <td>1881</td>\n      <td>0</td>\n      <td>0</td>\n      <td>0</td>\n      <td>0</td>\n      <td>...</td>\n      <td>255</td>\n      <td>1</td>\n      <td>0</td>\n      <td>0.01</td>\n      <td>0.05</td>\n      <td>0</td>\n      <td>0.01</td>\n      <td>0</td>\n      <td>0</td>\n      <td>b'normal.'</td>\n    </tr>\n    <tr>\n      <th>494017</th>\n      <td>0</td>\n      <td>b'tcp'</td>\n      <td>b'http'</td>\n      <td>b'SF'</td>\n      <td>282</td>\n      <td>2286</td>\n      <td>0</td>\n      <td>0</td>\n      <td>0</td>\n      <td>0</td>\n      <td>...</td>\n      <td>255</td>\n      <td>1</td>\n      <td>0</td>\n      <td>0.17</td>\n      <td>0.05</td>\n      <td>0</td>\n      <td>0.01</td>\n      <td>0</td>\n      <td>0</td>\n      <td>b'normal.'</td>\n    </tr>\n    <tr>\n      <th>494018</th>\n      <td>0</td>\n      <td>b'tcp'</td>\n      <td>b'http'</td>\n      <td>b'SF'</td>\n      <td>203</td>\n      <td>1200</td>\n      <td>0</td>\n      <td>0</td>\n      <td>0</td>\n      <td>0</td>\n      <td>...</td>\n      <td>255</td>\n      <td>1</td>\n      <td>0</td>\n      <td>0.06</td>\n      <td>0.05</td>\n      <td>0.06</td>\n      <td>0.01</td>\n      <td>0</td>\n      <td>0</td>\n      <td>b'normal.'</td>\n    </tr>\n    <tr>\n      <th>494019</th>\n      <td>0</td>\n      <td>b'tcp'</td>\n      <td>b'http'</td>\n      <td>b'SF'</td>\n      <td>291</td>\n      <td>1200</td>\n      <td>0</td>\n      <td>0</td>\n      <td>0</td>\n      <td>0</td>\n      <td>...</td>\n      <td>255</td>\n      <td>1</td>\n      <td>0</td>\n      <td>0.04</td>\n      <td>0.05</td>\n      <td>0.04</td>\n      <td>0.01</td>\n      <td>0</td>\n      <td>0</td>\n      <td>b'normal.'</td>\n    </tr>\n    <tr>\n      <th>494020</th>\n      <td>0</td>\n      <td>b'tcp'</td>\n      <td>b'http'</td>\n      <td>b'SF'</td>\n      <td>219</td>\n      <td>1234</td>\n      <td>0</td>\n      <td>0</td>\n      <td>0</td>\n      <td>0</td>\n      <td>...</td>\n      <td>255</td>\n      <td>1</td>\n      <td>0</td>\n      <td>0.17</td>\n      <td>0.05</td>\n      <td>0</td>\n      <td>0.01</td>\n      <td>0</td>\n      <td>0</td>\n      <td>b'normal.'</td>\n    </tr>\n  </tbody>\n</table>\n<p>494021 rows × 42 columns</p>\n</div>"
     },
     "metadata": {},
     "execution_count": 52
    }
   ],
   "source": [
    "pd_kddcup"
   ]
  },
  {
   "cell_type": "code",
   "execution_count": 54,
   "metadata": {},
   "outputs": [],
   "source": [
    "pd_kddcup.to_csv(\"cache/kddcup.csv\")\n",
    "with open(\"real/kddcup.json\", \"w\") as f:\n",
    "    numerical = list(map(str, list(range(4, kddcup.data.shape[1]))))\n",
    "    categorical = list(map(str, list(range(4))))\n",
    "\n",
    "    json.dump({\n",
    "        \"path\": \"kddcup.csv\",\n",
    "        \"target\": \"target\",\n",
    "        \"categorical\": categorical,\n",
    "        \"ignore\": [],\n",
    "        \"numerical\": numerical,\n",
    "        \"ordinal\": {},\n",
    "        \"classification\": True\n",
    "    }, f)"
   ]
  },
  {
   "source": [
    "Labeled faces in the wild"
   ],
   "cell_type": "markdown",
   "metadata": {}
  },
  {
   "cell_type": "code",
   "execution_count": 2,
   "metadata": {},
   "outputs": [],
   "source": [
    "lfw_pairs = datasets.fetch_lfw_pairs()"
   ]
  },
  {
   "cell_type": "code",
   "execution_count": 3,
   "metadata": {},
   "outputs": [
    {
     "data": {
      "text/plain": "(2200, 5828)"
     },
     "execution_count": 3,
     "metadata": {},
     "output_type": "execute_result"
    }
   ],
   "source": [
    "lfw_pairs.data.shape"
   ]
  },
  {
   "cell_type": "code",
   "execution_count": 4,
   "metadata": {},
   "outputs": [],
   "source": [
    "pd_lfw_pairs = pd.DataFrame(\n",
    "    data=np.c_[lfw_pairs.data, lfw_pairs.target],\n",
    "    columns=list(map(str, list(range(lfw_pairs.data.shape[1])))) + [\"target\"]\n",
    ")"
   ]
  },
  {
   "cell_type": "code",
   "execution_count": 5,
   "metadata": {},
   "outputs": [
    {
     "data": {
      "text/plain": "               0           1           2           3           4           5  \\\n0      73.666664   71.000000   82.000000   96.333336  107.666664  114.333336   \n1      85.000000  112.000000  132.666672  152.666672  169.000000  175.000000   \n2      37.000000   35.333332   34.000000   29.000000   22.666666   28.000000   \n3      11.333333   14.333333   22.333334   42.333332   64.333336   77.000000   \n4      49.666668   49.333332   44.666668   39.666668   53.666668   84.000000   \n...          ...         ...         ...         ...         ...         ...   \n2195   63.333332   66.000000   63.333332   65.666664   67.666664   66.333336   \n2196   86.666664   95.666664   84.333336   71.000000   76.333336   84.333336   \n2197   73.000000   94.333336  121.333336  127.333336  125.666664  128.666672   \n2198  119.000000  110.666664  113.000000  121.000000  111.333336  100.666664   \n2199   23.333334   20.333334   23.666666   30.333334   37.000000   41.333332   \n\n               6           7           8           9  ...        5819  \\\n0     112.333336  111.000000  110.000000  107.666664  ...  111.666664   \n1     175.333328  178.666672  185.000000  196.333328  ...   50.000000   \n2      36.333332   39.666668   41.666668   42.000000  ...   73.000000   \n3      81.000000   86.333336   93.333336   98.666664  ...    4.666667   \n4     117.666664  149.333328  170.333328  180.000000  ...  102.333336   \n...          ...         ...         ...         ...  ...         ...   \n2195   64.000000   58.666668   57.333332   54.333332  ...  105.000000   \n2196   92.666664  103.666664  116.666664  129.666672  ...    3.666667   \n2197  132.666672  131.666672  131.666672  138.333328  ...   71.666664   \n2198  100.333336   95.000000   92.000000   90.000000  ...  123.000000   \n2199   47.666668   58.333332   73.333336   90.333336  ...  125.333336   \n\n            5820        5821        5822        5823        5824        5825  \\\n0     129.000000  189.333328  207.666672  211.333328  218.666672  224.666672   \n1      60.666668   84.666664  101.000000  102.333336  102.666664  106.000000   \n2      76.000000   83.333336   89.666664   80.000000   55.666668   51.333332   \n3      15.000000   36.000000   43.000000   30.666666   37.333332   58.666668   \n4     152.333328  189.000000  201.666672  189.333328  173.333328  158.333328   \n...          ...         ...         ...         ...         ...         ...   \n2195  123.000000  128.333328  115.666664  100.666664   96.666664   91.333336   \n2196    4.666667    4.666667    6.333333    6.000000    5.666667    6.333333   \n2197   79.000000   85.333336   79.333336   73.333336   68.000000   64.000000   \n2198  125.666664  127.000000  123.666664  125.666664  137.000000  145.333328   \n2199  129.333328  138.333328  148.666672  150.000000  151.000000  146.666672   \n\n            5826        5827  target  \n0     228.666672  231.666672       1  \n1     114.333336  122.000000       1  \n2      52.333332   52.000000       1  \n3      89.000000  128.000000       1  \n4     137.333328  120.666664       1  \n...          ...         ...     ...  \n2195   85.333336   86.000000       0  \n2196    7.000000    8.000000       0  \n2197   71.000000   82.000000       0  \n2198  130.000000  102.666664       0  \n2199  151.333328  159.000000       0  \n\n[2200 rows x 5829 columns]",
      "text/html": "<div>\n<style scoped>\n    .dataframe tbody tr th:only-of-type {\n        vertical-align: middle;\n    }\n\n    .dataframe tbody tr th {\n        vertical-align: top;\n    }\n\n    .dataframe thead th {\n        text-align: right;\n    }\n</style>\n<table border=\"1\" class=\"dataframe\">\n  <thead>\n    <tr style=\"text-align: right;\">\n      <th></th>\n      <th>0</th>\n      <th>1</th>\n      <th>2</th>\n      <th>3</th>\n      <th>4</th>\n      <th>5</th>\n      <th>6</th>\n      <th>7</th>\n      <th>8</th>\n      <th>9</th>\n      <th>...</th>\n      <th>5819</th>\n      <th>5820</th>\n      <th>5821</th>\n      <th>5822</th>\n      <th>5823</th>\n      <th>5824</th>\n      <th>5825</th>\n      <th>5826</th>\n      <th>5827</th>\n      <th>target</th>\n    </tr>\n  </thead>\n  <tbody>\n    <tr>\n      <th>0</th>\n      <td>73.666664</td>\n      <td>71.000000</td>\n      <td>82.000000</td>\n      <td>96.333336</td>\n      <td>107.666664</td>\n      <td>114.333336</td>\n      <td>112.333336</td>\n      <td>111.000000</td>\n      <td>110.000000</td>\n      <td>107.666664</td>\n      <td>...</td>\n      <td>111.666664</td>\n      <td>129.000000</td>\n      <td>189.333328</td>\n      <td>207.666672</td>\n      <td>211.333328</td>\n      <td>218.666672</td>\n      <td>224.666672</td>\n      <td>228.666672</td>\n      <td>231.666672</td>\n      <td>1</td>\n    </tr>\n    <tr>\n      <th>1</th>\n      <td>85.000000</td>\n      <td>112.000000</td>\n      <td>132.666672</td>\n      <td>152.666672</td>\n      <td>169.000000</td>\n      <td>175.000000</td>\n      <td>175.333328</td>\n      <td>178.666672</td>\n      <td>185.000000</td>\n      <td>196.333328</td>\n      <td>...</td>\n      <td>50.000000</td>\n      <td>60.666668</td>\n      <td>84.666664</td>\n      <td>101.000000</td>\n      <td>102.333336</td>\n      <td>102.666664</td>\n      <td>106.000000</td>\n      <td>114.333336</td>\n      <td>122.000000</td>\n      <td>1</td>\n    </tr>\n    <tr>\n      <th>2</th>\n      <td>37.000000</td>\n      <td>35.333332</td>\n      <td>34.000000</td>\n      <td>29.000000</td>\n      <td>22.666666</td>\n      <td>28.000000</td>\n      <td>36.333332</td>\n      <td>39.666668</td>\n      <td>41.666668</td>\n      <td>42.000000</td>\n      <td>...</td>\n      <td>73.000000</td>\n      <td>76.000000</td>\n      <td>83.333336</td>\n      <td>89.666664</td>\n      <td>80.000000</td>\n      <td>55.666668</td>\n      <td>51.333332</td>\n      <td>52.333332</td>\n      <td>52.000000</td>\n      <td>1</td>\n    </tr>\n    <tr>\n      <th>3</th>\n      <td>11.333333</td>\n      <td>14.333333</td>\n      <td>22.333334</td>\n      <td>42.333332</td>\n      <td>64.333336</td>\n      <td>77.000000</td>\n      <td>81.000000</td>\n      <td>86.333336</td>\n      <td>93.333336</td>\n      <td>98.666664</td>\n      <td>...</td>\n      <td>4.666667</td>\n      <td>15.000000</td>\n      <td>36.000000</td>\n      <td>43.000000</td>\n      <td>30.666666</td>\n      <td>37.333332</td>\n      <td>58.666668</td>\n      <td>89.000000</td>\n      <td>128.000000</td>\n      <td>1</td>\n    </tr>\n    <tr>\n      <th>4</th>\n      <td>49.666668</td>\n      <td>49.333332</td>\n      <td>44.666668</td>\n      <td>39.666668</td>\n      <td>53.666668</td>\n      <td>84.000000</td>\n      <td>117.666664</td>\n      <td>149.333328</td>\n      <td>170.333328</td>\n      <td>180.000000</td>\n      <td>...</td>\n      <td>102.333336</td>\n      <td>152.333328</td>\n      <td>189.000000</td>\n      <td>201.666672</td>\n      <td>189.333328</td>\n      <td>173.333328</td>\n      <td>158.333328</td>\n      <td>137.333328</td>\n      <td>120.666664</td>\n      <td>1</td>\n    </tr>\n    <tr>\n      <th>...</th>\n      <td>...</td>\n      <td>...</td>\n      <td>...</td>\n      <td>...</td>\n      <td>...</td>\n      <td>...</td>\n      <td>...</td>\n      <td>...</td>\n      <td>...</td>\n      <td>...</td>\n      <td>...</td>\n      <td>...</td>\n      <td>...</td>\n      <td>...</td>\n      <td>...</td>\n      <td>...</td>\n      <td>...</td>\n      <td>...</td>\n      <td>...</td>\n      <td>...</td>\n      <td>...</td>\n    </tr>\n    <tr>\n      <th>2195</th>\n      <td>63.333332</td>\n      <td>66.000000</td>\n      <td>63.333332</td>\n      <td>65.666664</td>\n      <td>67.666664</td>\n      <td>66.333336</td>\n      <td>64.000000</td>\n      <td>58.666668</td>\n      <td>57.333332</td>\n      <td>54.333332</td>\n      <td>...</td>\n      <td>105.000000</td>\n      <td>123.000000</td>\n      <td>128.333328</td>\n      <td>115.666664</td>\n      <td>100.666664</td>\n      <td>96.666664</td>\n      <td>91.333336</td>\n      <td>85.333336</td>\n      <td>86.000000</td>\n      <td>0</td>\n    </tr>\n    <tr>\n      <th>2196</th>\n      <td>86.666664</td>\n      <td>95.666664</td>\n      <td>84.333336</td>\n      <td>71.000000</td>\n      <td>76.333336</td>\n      <td>84.333336</td>\n      <td>92.666664</td>\n      <td>103.666664</td>\n      <td>116.666664</td>\n      <td>129.666672</td>\n      <td>...</td>\n      <td>3.666667</td>\n      <td>4.666667</td>\n      <td>4.666667</td>\n      <td>6.333333</td>\n      <td>6.000000</td>\n      <td>5.666667</td>\n      <td>6.333333</td>\n      <td>7.000000</td>\n      <td>8.000000</td>\n      <td>0</td>\n    </tr>\n    <tr>\n      <th>2197</th>\n      <td>73.000000</td>\n      <td>94.333336</td>\n      <td>121.333336</td>\n      <td>127.333336</td>\n      <td>125.666664</td>\n      <td>128.666672</td>\n      <td>132.666672</td>\n      <td>131.666672</td>\n      <td>131.666672</td>\n      <td>138.333328</td>\n      <td>...</td>\n      <td>71.666664</td>\n      <td>79.000000</td>\n      <td>85.333336</td>\n      <td>79.333336</td>\n      <td>73.333336</td>\n      <td>68.000000</td>\n      <td>64.000000</td>\n      <td>71.000000</td>\n      <td>82.000000</td>\n      <td>0</td>\n    </tr>\n    <tr>\n      <th>2198</th>\n      <td>119.000000</td>\n      <td>110.666664</td>\n      <td>113.000000</td>\n      <td>121.000000</td>\n      <td>111.333336</td>\n      <td>100.666664</td>\n      <td>100.333336</td>\n      <td>95.000000</td>\n      <td>92.000000</td>\n      <td>90.000000</td>\n      <td>...</td>\n      <td>123.000000</td>\n      <td>125.666664</td>\n      <td>127.000000</td>\n      <td>123.666664</td>\n      <td>125.666664</td>\n      <td>137.000000</td>\n      <td>145.333328</td>\n      <td>130.000000</td>\n      <td>102.666664</td>\n      <td>0</td>\n    </tr>\n    <tr>\n      <th>2199</th>\n      <td>23.333334</td>\n      <td>20.333334</td>\n      <td>23.666666</td>\n      <td>30.333334</td>\n      <td>37.000000</td>\n      <td>41.333332</td>\n      <td>47.666668</td>\n      <td>58.333332</td>\n      <td>73.333336</td>\n      <td>90.333336</td>\n      <td>...</td>\n      <td>125.333336</td>\n      <td>129.333328</td>\n      <td>138.333328</td>\n      <td>148.666672</td>\n      <td>150.000000</td>\n      <td>151.000000</td>\n      <td>146.666672</td>\n      <td>151.333328</td>\n      <td>159.000000</td>\n      <td>0</td>\n    </tr>\n  </tbody>\n</table>\n<p>2200 rows × 5829 columns</p>\n</div>"
     },
     "execution_count": 5,
     "metadata": {},
     "output_type": "execute_result"
    }
   ],
   "source": [
    "pd_lfw_pairs.target = pd_lfw_pairs.target.astype(int)\n",
    "pd_lfw_pairs"
   ]
  },
  {
   "cell_type": "code",
   "execution_count": 6,
   "metadata": {},
   "outputs": [],
   "source": [
    "pd_lfw_pairs.to_csv(\"cache/pd_lfw_pairs.csv\")\n",
    "with open(\"real/pd_lfw_pairs.json\", \"w\") as f:\n",
    "    json.dump({\n",
    "        \"path\": \"pd_lfw_pairs.csv\",\n",
    "        \"target\": \"target\",\n",
    "        \"categorical\": [],\n",
    "        \"ignore\": [],\n",
    "        \"numerical\": list(map(str, list(range(lfw_pairs.data.shape[1])))),\n",
    "        \"ordinal\": {},\n",
    "        \"classification\": True\n",
    "    }, f)"
   ]
  },
  {
   "source": [
    "olivetti faces"
   ],
   "cell_type": "markdown",
   "metadata": {}
  },
  {
   "cell_type": "code",
   "execution_count": 7,
   "metadata": {},
   "outputs": [],
   "source": [
    "olivetti_faces = datasets.fetch_olivetti_faces()"
   ]
  },
  {
   "cell_type": "code",
   "execution_count": 8,
   "metadata": {},
   "outputs": [
    {
     "data": {
      "text/plain": "(400, 4096)"
     },
     "execution_count": 8,
     "metadata": {},
     "output_type": "execute_result"
    }
   ],
   "source": [
    "olivetti_faces.data.shape"
   ]
  },
  {
   "cell_type": "code",
   "execution_count": 9,
   "metadata": {},
   "outputs": [],
   "source": [
    "pd_olivetti_faces = pd.DataFrame(\n",
    "    data=np.c_[olivetti_faces.data, olivetti_faces.target],\n",
    "    columns=list(map(str, list(range(olivetti_faces.data.shape[1])))) + [\"target\"]\n",
    ")"
   ]
  },
  {
   "cell_type": "code",
   "execution_count": 10,
   "metadata": {},
   "outputs": [
    {
     "data": {
      "text/plain": "            0         1         2         3         4         5         6  \\\n0    0.309917  0.367769  0.417355  0.442149  0.528926  0.607438  0.657025   \n1    0.454545  0.471074  0.512397  0.557851  0.595041  0.640496  0.681818   \n2    0.318182  0.400826  0.491736  0.528926  0.586777  0.657025  0.681818   \n3    0.198347  0.194215  0.194215  0.194215  0.190083  0.190083  0.243802   \n4    0.500000  0.545455  0.582645  0.623967  0.648760  0.690083  0.694215   \n..        ...       ...       ...       ...       ...       ...       ...   \n395  0.400826  0.495868  0.570248  0.632231  0.648760  0.640496  0.661157   \n396  0.367769  0.367769  0.351240  0.301653  0.247934  0.247934  0.367769   \n397  0.500000  0.533058  0.607438  0.628099  0.657025  0.632231  0.657025   \n398  0.214876  0.219008  0.219008  0.223140  0.210744  0.202479  0.276859   \n399  0.516529  0.462810  0.280992  0.252066  0.247934  0.367769  0.574380   \n\n            7         8         9  ...      4087      4088      4089  \\\n0    0.677686  0.690083  0.685950  ...  0.669421  0.652893  0.661157   \n1    0.702479  0.710744  0.702479  ...  0.157025  0.136364  0.148760   \n2    0.685950  0.702479  0.698347  ...  0.132231  0.181818  0.136364   \n3    0.404959  0.483471  0.516529  ...  0.636364  0.657025  0.685950   \n4    0.714876  0.723140  0.731405  ...  0.161157  0.177686  0.173554   \n..        ...       ...       ...  ...       ...       ...       ...   \n395  0.636364  0.665289  0.698347  ...  0.396694  0.264463  0.099174   \n396  0.512397  0.574380  0.628099  ...  0.334711  0.289256  0.285124   \n397  0.669421  0.673554  0.702479  ...  0.148760  0.152893  0.161157   \n398  0.400826  0.487603  0.549587  ...  0.392562  0.367769  0.409091   \n399  0.615702  0.661157  0.615702  ...  0.264463  0.293388  0.301653   \n\n         4090      4091      4092      4093      4094      4095  target  \n0    0.475207  0.132231  0.148760  0.152893  0.161157  0.157025       0  \n1    0.152893  0.152893  0.152893  0.152893  0.152893  0.152893       0  \n2    0.128099  0.148760  0.144628  0.140496  0.148760  0.152893       0  \n3    0.727273  0.743802  0.764463  0.752066  0.752066  0.739669       0  \n4    0.177686  0.177686  0.177686  0.177686  0.173554  0.173554       0  \n..        ...       ...       ...       ...       ...       ...     ...  \n395  0.181818  0.243802  0.247934  0.161157  0.157025  0.136364      39  \n396  0.338843  0.404959  0.458678  0.487603  0.512397  0.549587      39  \n397  0.161157  0.173554  0.157025  0.177686  0.148760  0.190083      39  \n398  0.479339  0.524793  0.545455  0.574380  0.590909  0.603306      39  \n399  0.293388  0.322314  0.322314  0.359504  0.355372  0.384298      39  \n\n[400 rows x 4097 columns]",
      "text/html": "<div>\n<style scoped>\n    .dataframe tbody tr th:only-of-type {\n        vertical-align: middle;\n    }\n\n    .dataframe tbody tr th {\n        vertical-align: top;\n    }\n\n    .dataframe thead th {\n        text-align: right;\n    }\n</style>\n<table border=\"1\" class=\"dataframe\">\n  <thead>\n    <tr style=\"text-align: right;\">\n      <th></th>\n      <th>0</th>\n      <th>1</th>\n      <th>2</th>\n      <th>3</th>\n      <th>4</th>\n      <th>5</th>\n      <th>6</th>\n      <th>7</th>\n      <th>8</th>\n      <th>9</th>\n      <th>...</th>\n      <th>4087</th>\n      <th>4088</th>\n      <th>4089</th>\n      <th>4090</th>\n      <th>4091</th>\n      <th>4092</th>\n      <th>4093</th>\n      <th>4094</th>\n      <th>4095</th>\n      <th>target</th>\n    </tr>\n  </thead>\n  <tbody>\n    <tr>\n      <th>0</th>\n      <td>0.309917</td>\n      <td>0.367769</td>\n      <td>0.417355</td>\n      <td>0.442149</td>\n      <td>0.528926</td>\n      <td>0.607438</td>\n      <td>0.657025</td>\n      <td>0.677686</td>\n      <td>0.690083</td>\n      <td>0.685950</td>\n      <td>...</td>\n      <td>0.669421</td>\n      <td>0.652893</td>\n      <td>0.661157</td>\n      <td>0.475207</td>\n      <td>0.132231</td>\n      <td>0.148760</td>\n      <td>0.152893</td>\n      <td>0.161157</td>\n      <td>0.157025</td>\n      <td>0</td>\n    </tr>\n    <tr>\n      <th>1</th>\n      <td>0.454545</td>\n      <td>0.471074</td>\n      <td>0.512397</td>\n      <td>0.557851</td>\n      <td>0.595041</td>\n      <td>0.640496</td>\n      <td>0.681818</td>\n      <td>0.702479</td>\n      <td>0.710744</td>\n      <td>0.702479</td>\n      <td>...</td>\n      <td>0.157025</td>\n      <td>0.136364</td>\n      <td>0.148760</td>\n      <td>0.152893</td>\n      <td>0.152893</td>\n      <td>0.152893</td>\n      <td>0.152893</td>\n      <td>0.152893</td>\n      <td>0.152893</td>\n      <td>0</td>\n    </tr>\n    <tr>\n      <th>2</th>\n      <td>0.318182</td>\n      <td>0.400826</td>\n      <td>0.491736</td>\n      <td>0.528926</td>\n      <td>0.586777</td>\n      <td>0.657025</td>\n      <td>0.681818</td>\n      <td>0.685950</td>\n      <td>0.702479</td>\n      <td>0.698347</td>\n      <td>...</td>\n      <td>0.132231</td>\n      <td>0.181818</td>\n      <td>0.136364</td>\n      <td>0.128099</td>\n      <td>0.148760</td>\n      <td>0.144628</td>\n      <td>0.140496</td>\n      <td>0.148760</td>\n      <td>0.152893</td>\n      <td>0</td>\n    </tr>\n    <tr>\n      <th>3</th>\n      <td>0.198347</td>\n      <td>0.194215</td>\n      <td>0.194215</td>\n      <td>0.194215</td>\n      <td>0.190083</td>\n      <td>0.190083</td>\n      <td>0.243802</td>\n      <td>0.404959</td>\n      <td>0.483471</td>\n      <td>0.516529</td>\n      <td>...</td>\n      <td>0.636364</td>\n      <td>0.657025</td>\n      <td>0.685950</td>\n      <td>0.727273</td>\n      <td>0.743802</td>\n      <td>0.764463</td>\n      <td>0.752066</td>\n      <td>0.752066</td>\n      <td>0.739669</td>\n      <td>0</td>\n    </tr>\n    <tr>\n      <th>4</th>\n      <td>0.500000</td>\n      <td>0.545455</td>\n      <td>0.582645</td>\n      <td>0.623967</td>\n      <td>0.648760</td>\n      <td>0.690083</td>\n      <td>0.694215</td>\n      <td>0.714876</td>\n      <td>0.723140</td>\n      <td>0.731405</td>\n      <td>...</td>\n      <td>0.161157</td>\n      <td>0.177686</td>\n      <td>0.173554</td>\n      <td>0.177686</td>\n      <td>0.177686</td>\n      <td>0.177686</td>\n      <td>0.177686</td>\n      <td>0.173554</td>\n      <td>0.173554</td>\n      <td>0</td>\n    </tr>\n    <tr>\n      <th>...</th>\n      <td>...</td>\n      <td>...</td>\n      <td>...</td>\n      <td>...</td>\n      <td>...</td>\n      <td>...</td>\n      <td>...</td>\n      <td>...</td>\n      <td>...</td>\n      <td>...</td>\n      <td>...</td>\n      <td>...</td>\n      <td>...</td>\n      <td>...</td>\n      <td>...</td>\n      <td>...</td>\n      <td>...</td>\n      <td>...</td>\n      <td>...</td>\n      <td>...</td>\n      <td>...</td>\n    </tr>\n    <tr>\n      <th>395</th>\n      <td>0.400826</td>\n      <td>0.495868</td>\n      <td>0.570248</td>\n      <td>0.632231</td>\n      <td>0.648760</td>\n      <td>0.640496</td>\n      <td>0.661157</td>\n      <td>0.636364</td>\n      <td>0.665289</td>\n      <td>0.698347</td>\n      <td>...</td>\n      <td>0.396694</td>\n      <td>0.264463</td>\n      <td>0.099174</td>\n      <td>0.181818</td>\n      <td>0.243802</td>\n      <td>0.247934</td>\n      <td>0.161157</td>\n      <td>0.157025</td>\n      <td>0.136364</td>\n      <td>39</td>\n    </tr>\n    <tr>\n      <th>396</th>\n      <td>0.367769</td>\n      <td>0.367769</td>\n      <td>0.351240</td>\n      <td>0.301653</td>\n      <td>0.247934</td>\n      <td>0.247934</td>\n      <td>0.367769</td>\n      <td>0.512397</td>\n      <td>0.574380</td>\n      <td>0.628099</td>\n      <td>...</td>\n      <td>0.334711</td>\n      <td>0.289256</td>\n      <td>0.285124</td>\n      <td>0.338843</td>\n      <td>0.404959</td>\n      <td>0.458678</td>\n      <td>0.487603</td>\n      <td>0.512397</td>\n      <td>0.549587</td>\n      <td>39</td>\n    </tr>\n    <tr>\n      <th>397</th>\n      <td>0.500000</td>\n      <td>0.533058</td>\n      <td>0.607438</td>\n      <td>0.628099</td>\n      <td>0.657025</td>\n      <td>0.632231</td>\n      <td>0.657025</td>\n      <td>0.669421</td>\n      <td>0.673554</td>\n      <td>0.702479</td>\n      <td>...</td>\n      <td>0.148760</td>\n      <td>0.152893</td>\n      <td>0.161157</td>\n      <td>0.161157</td>\n      <td>0.173554</td>\n      <td>0.157025</td>\n      <td>0.177686</td>\n      <td>0.148760</td>\n      <td>0.190083</td>\n      <td>39</td>\n    </tr>\n    <tr>\n      <th>398</th>\n      <td>0.214876</td>\n      <td>0.219008</td>\n      <td>0.219008</td>\n      <td>0.223140</td>\n      <td>0.210744</td>\n      <td>0.202479</td>\n      <td>0.276859</td>\n      <td>0.400826</td>\n      <td>0.487603</td>\n      <td>0.549587</td>\n      <td>...</td>\n      <td>0.392562</td>\n      <td>0.367769</td>\n      <td>0.409091</td>\n      <td>0.479339</td>\n      <td>0.524793</td>\n      <td>0.545455</td>\n      <td>0.574380</td>\n      <td>0.590909</td>\n      <td>0.603306</td>\n      <td>39</td>\n    </tr>\n    <tr>\n      <th>399</th>\n      <td>0.516529</td>\n      <td>0.462810</td>\n      <td>0.280992</td>\n      <td>0.252066</td>\n      <td>0.247934</td>\n      <td>0.367769</td>\n      <td>0.574380</td>\n      <td>0.615702</td>\n      <td>0.661157</td>\n      <td>0.615702</td>\n      <td>...</td>\n      <td>0.264463</td>\n      <td>0.293388</td>\n      <td>0.301653</td>\n      <td>0.293388</td>\n      <td>0.322314</td>\n      <td>0.322314</td>\n      <td>0.359504</td>\n      <td>0.355372</td>\n      <td>0.384298</td>\n      <td>39</td>\n    </tr>\n  </tbody>\n</table>\n<p>400 rows × 4097 columns</p>\n</div>"
     },
     "execution_count": 10,
     "metadata": {},
     "output_type": "execute_result"
    }
   ],
   "source": [
    "pd_olivetti_faces.target = pd_olivetti_faces.target.astype(int)\n",
    "pd_olivetti_faces"
   ]
  },
  {
   "cell_type": "code",
   "execution_count": 11,
   "metadata": {},
   "outputs": [],
   "source": [
    "pd_olivetti_faces.to_csv(\"cache/olivetti_faces.csv\")\n",
    "with open(\"real/olivetti_faces.json\", \"w\") as f:\n",
    "    json.dump({\n",
    "        \"path\": \"olivetti_faces.csv\",\n",
    "        \"target\": \"target\",\n",
    "        \"categorical\": [],\n",
    "        \"ignore\": [],\n",
    "        \"numerical\": list(map(str, list(range(olivetti_faces.data.shape[1])))),\n",
    "        \"ordinal\": {},\n",
    "        \"classification\": True\n",
    "    }, f)"
   ]
  },
  {
   "source": [
    "Wine"
   ],
   "cell_type": "markdown",
   "metadata": {}
  },
  {
   "cell_type": "code",
   "execution_count": 15,
   "metadata": {},
   "outputs": [
    {
     "data": {
      "text/plain": "{'data': array([[1.423e+01, 1.710e+00, 2.430e+00, ..., 1.040e+00, 3.920e+00,\n         1.065e+03],\n        [1.320e+01, 1.780e+00, 2.140e+00, ..., 1.050e+00, 3.400e+00,\n         1.050e+03],\n        [1.316e+01, 2.360e+00, 2.670e+00, ..., 1.030e+00, 3.170e+00,\n         1.185e+03],\n        ...,\n        [1.327e+01, 4.280e+00, 2.260e+00, ..., 5.900e-01, 1.560e+00,\n         8.350e+02],\n        [1.317e+01, 2.590e+00, 2.370e+00, ..., 6.000e-01, 1.620e+00,\n         8.400e+02],\n        [1.413e+01, 4.100e+00, 2.740e+00, ..., 6.100e-01, 1.600e+00,\n         5.600e+02]]),\n 'target': array([0, 0, 0, 0, 0, 0, 0, 0, 0, 0, 0, 0, 0, 0, 0, 0, 0, 0, 0, 0, 0, 0,\n        0, 0, 0, 0, 0, 0, 0, 0, 0, 0, 0, 0, 0, 0, 0, 0, 0, 0, 0, 0, 0, 0,\n        0, 0, 0, 0, 0, 0, 0, 0, 0, 0, 0, 0, 0, 0, 0, 1, 1, 1, 1, 1, 1, 1,\n        1, 1, 1, 1, 1, 1, 1, 1, 1, 1, 1, 1, 1, 1, 1, 1, 1, 1, 1, 1, 1, 1,\n        1, 1, 1, 1, 1, 1, 1, 1, 1, 1, 1, 1, 1, 1, 1, 1, 1, 1, 1, 1, 1, 1,\n        1, 1, 1, 1, 1, 1, 1, 1, 1, 1, 1, 1, 1, 1, 1, 1, 1, 1, 1, 1, 2, 2,\n        2, 2, 2, 2, 2, 2, 2, 2, 2, 2, 2, 2, 2, 2, 2, 2, 2, 2, 2, 2, 2, 2,\n        2, 2, 2, 2, 2, 2, 2, 2, 2, 2, 2, 2, 2, 2, 2, 2, 2, 2, 2, 2, 2, 2,\n        2, 2]),\n 'frame': None,\n 'target_names': array(['class_0', 'class_1', 'class_2'], dtype='<U7'),\n 'DESCR': '.. _wine_dataset:\\n\\nWine recognition dataset\\n------------------------\\n\\n**Data Set Characteristics:**\\n\\n    :Number of Instances: 178 (50 in each of three classes)\\n    :Number of Attributes: 13 numeric, predictive attributes and the class\\n    :Attribute Information:\\n \\t\\t- Alcohol\\n \\t\\t- Malic acid\\n \\t\\t- Ash\\n\\t\\t- Alcalinity of ash  \\n \\t\\t- Magnesium\\n\\t\\t- Total phenols\\n \\t\\t- Flavanoids\\n \\t\\t- Nonflavanoid phenols\\n \\t\\t- Proanthocyanins\\n\\t\\t- Color intensity\\n \\t\\t- Hue\\n \\t\\t- OD280/OD315 of diluted wines\\n \\t\\t- Proline\\n\\n    - class:\\n            - class_0\\n            - class_1\\n            - class_2\\n\\t\\t\\n    :Summary Statistics:\\n    \\n    ============================= ==== ===== ======= =====\\n                                   Min   Max   Mean     SD\\n    ============================= ==== ===== ======= =====\\n    Alcohol:                      11.0  14.8    13.0   0.8\\n    Malic Acid:                   0.74  5.80    2.34  1.12\\n    Ash:                          1.36  3.23    2.36  0.27\\n    Alcalinity of Ash:            10.6  30.0    19.5   3.3\\n    Magnesium:                    70.0 162.0    99.7  14.3\\n    Total Phenols:                0.98  3.88    2.29  0.63\\n    Flavanoids:                   0.34  5.08    2.03  1.00\\n    Nonflavanoid Phenols:         0.13  0.66    0.36  0.12\\n    Proanthocyanins:              0.41  3.58    1.59  0.57\\n    Colour Intensity:              1.3  13.0     5.1   2.3\\n    Hue:                          0.48  1.71    0.96  0.23\\n    OD280/OD315 of diluted wines: 1.27  4.00    2.61  0.71\\n    Proline:                       278  1680     746   315\\n    ============================= ==== ===== ======= =====\\n\\n    :Missing Attribute Values: None\\n    :Class Distribution: class_0 (59), class_1 (71), class_2 (48)\\n    :Creator: R.A. Fisher\\n    :Donor: Michael Marshall (MARSHALL%PLU@io.arc.nasa.gov)\\n    :Date: July, 1988\\n\\nThis is a copy of UCI ML Wine recognition datasets.\\nhttps://archive.ics.uci.edu/ml/machine-learning-databases/wine/wine.data\\n\\nThe data is the results of a chemical analysis of wines grown in the same\\nregion in Italy by three different cultivators. There are thirteen different\\nmeasurements taken for different constituents found in the three types of\\nwine.\\n\\nOriginal Owners: \\n\\nForina, M. et al, PARVUS - \\nAn Extendible Package for Data Exploration, Classification and Correlation. \\nInstitute of Pharmaceutical and Food Analysis and Technologies,\\nVia Brigata Salerno, 16147 Genoa, Italy.\\n\\nCitation:\\n\\nLichman, M. (2013). UCI Machine Learning Repository\\n[https://archive.ics.uci.edu/ml]. Irvine, CA: University of California,\\nSchool of Information and Computer Science. \\n\\n.. topic:: References\\n\\n  (1) S. Aeberhard, D. Coomans and O. de Vel, \\n  Comparison of Classifiers in High Dimensional Settings, \\n  Tech. Rep. no. 92-02, (1992), Dept. of Computer Science and Dept. of  \\n  Mathematics and Statistics, James Cook University of North Queensland. \\n  (Also submitted to Technometrics). \\n\\n  The data was used with many others for comparing various \\n  classifiers. The classes are separable, though only RDA \\n  has achieved 100% correct classification. \\n  (RDA : 100%, QDA 99.4%, LDA 98.9%, 1NN 96.1% (z-transformed data)) \\n  (All results using the leave-one-out technique) \\n\\n  (2) S. Aeberhard, D. Coomans and O. de Vel, \\n  \"THE CLASSIFICATION PERFORMANCE OF RDA\" \\n  Tech. Rep. no. 92-01, (1992), Dept. of Computer Science and Dept. of \\n  Mathematics and Statistics, James Cook University of North Queensland. \\n  (Also submitted to Journal of Chemometrics).\\n',\n 'feature_names': ['alcohol',\n  'malic_acid',\n  'ash',\n  'alcalinity_of_ash',\n  'magnesium',\n  'total_phenols',\n  'flavanoids',\n  'nonflavanoid_phenols',\n  'proanthocyanins',\n  'color_intensity',\n  'hue',\n  'od280/od315_of_diluted_wines',\n  'proline']}"
     },
     "execution_count": 15,
     "metadata": {},
     "output_type": "execute_result"
    }
   ],
   "source": [
    "wine = datasets.load_wine()\n",
    "wine"
   ]
  },
  {
   "cell_type": "code",
   "execution_count": 16,
   "metadata": {},
   "outputs": [],
   "source": [
    "pd_wine = pd.DataFrame(\n",
    "    data=np.c_[wine.data, wine.target],\n",
    "    columns=wine.feature_names + [\"target\"]\n",
    ")"
   ]
  },
  {
   "cell_type": "code",
   "execution_count": 17,
   "metadata": {},
   "outputs": [
    {
     "data": {
      "text/plain": "     alcohol  malic_acid   ash  alcalinity_of_ash  magnesium  total_phenols  \\\n0      14.23        1.71  2.43               15.6      127.0           2.80   \n1      13.20        1.78  2.14               11.2      100.0           2.65   \n2      13.16        2.36  2.67               18.6      101.0           2.80   \n3      14.37        1.95  2.50               16.8      113.0           3.85   \n4      13.24        2.59  2.87               21.0      118.0           2.80   \n..       ...         ...   ...                ...        ...            ...   \n173    13.71        5.65  2.45               20.5       95.0           1.68   \n174    13.40        3.91  2.48               23.0      102.0           1.80   \n175    13.27        4.28  2.26               20.0      120.0           1.59   \n176    13.17        2.59  2.37               20.0      120.0           1.65   \n177    14.13        4.10  2.74               24.5       96.0           2.05   \n\n     flavanoids  nonflavanoid_phenols  proanthocyanins  color_intensity   hue  \\\n0          3.06                  0.28             2.29             5.64  1.04   \n1          2.76                  0.26             1.28             4.38  1.05   \n2          3.24                  0.30             2.81             5.68  1.03   \n3          3.49                  0.24             2.18             7.80  0.86   \n4          2.69                  0.39             1.82             4.32  1.04   \n..          ...                   ...              ...              ...   ...   \n173        0.61                  0.52             1.06             7.70  0.64   \n174        0.75                  0.43             1.41             7.30  0.70   \n175        0.69                  0.43             1.35            10.20  0.59   \n176        0.68                  0.53             1.46             9.30  0.60   \n177        0.76                  0.56             1.35             9.20  0.61   \n\n     od280/od315_of_diluted_wines  proline  target  \n0                            3.92   1065.0       0  \n1                            3.40   1050.0       0  \n2                            3.17   1185.0       0  \n3                            3.45   1480.0       0  \n4                            2.93    735.0       0  \n..                            ...      ...     ...  \n173                          1.74    740.0       2  \n174                          1.56    750.0       2  \n175                          1.56    835.0       2  \n176                          1.62    840.0       2  \n177                          1.60    560.0       2  \n\n[178 rows x 14 columns]",
      "text/html": "<div>\n<style scoped>\n    .dataframe tbody tr th:only-of-type {\n        vertical-align: middle;\n    }\n\n    .dataframe tbody tr th {\n        vertical-align: top;\n    }\n\n    .dataframe thead th {\n        text-align: right;\n    }\n</style>\n<table border=\"1\" class=\"dataframe\">\n  <thead>\n    <tr style=\"text-align: right;\">\n      <th></th>\n      <th>alcohol</th>\n      <th>malic_acid</th>\n      <th>ash</th>\n      <th>alcalinity_of_ash</th>\n      <th>magnesium</th>\n      <th>total_phenols</th>\n      <th>flavanoids</th>\n      <th>nonflavanoid_phenols</th>\n      <th>proanthocyanins</th>\n      <th>color_intensity</th>\n      <th>hue</th>\n      <th>od280/od315_of_diluted_wines</th>\n      <th>proline</th>\n      <th>target</th>\n    </tr>\n  </thead>\n  <tbody>\n    <tr>\n      <th>0</th>\n      <td>14.23</td>\n      <td>1.71</td>\n      <td>2.43</td>\n      <td>15.6</td>\n      <td>127.0</td>\n      <td>2.80</td>\n      <td>3.06</td>\n      <td>0.28</td>\n      <td>2.29</td>\n      <td>5.64</td>\n      <td>1.04</td>\n      <td>3.92</td>\n      <td>1065.0</td>\n      <td>0</td>\n    </tr>\n    <tr>\n      <th>1</th>\n      <td>13.20</td>\n      <td>1.78</td>\n      <td>2.14</td>\n      <td>11.2</td>\n      <td>100.0</td>\n      <td>2.65</td>\n      <td>2.76</td>\n      <td>0.26</td>\n      <td>1.28</td>\n      <td>4.38</td>\n      <td>1.05</td>\n      <td>3.40</td>\n      <td>1050.0</td>\n      <td>0</td>\n    </tr>\n    <tr>\n      <th>2</th>\n      <td>13.16</td>\n      <td>2.36</td>\n      <td>2.67</td>\n      <td>18.6</td>\n      <td>101.0</td>\n      <td>2.80</td>\n      <td>3.24</td>\n      <td>0.30</td>\n      <td>2.81</td>\n      <td>5.68</td>\n      <td>1.03</td>\n      <td>3.17</td>\n      <td>1185.0</td>\n      <td>0</td>\n    </tr>\n    <tr>\n      <th>3</th>\n      <td>14.37</td>\n      <td>1.95</td>\n      <td>2.50</td>\n      <td>16.8</td>\n      <td>113.0</td>\n      <td>3.85</td>\n      <td>3.49</td>\n      <td>0.24</td>\n      <td>2.18</td>\n      <td>7.80</td>\n      <td>0.86</td>\n      <td>3.45</td>\n      <td>1480.0</td>\n      <td>0</td>\n    </tr>\n    <tr>\n      <th>4</th>\n      <td>13.24</td>\n      <td>2.59</td>\n      <td>2.87</td>\n      <td>21.0</td>\n      <td>118.0</td>\n      <td>2.80</td>\n      <td>2.69</td>\n      <td>0.39</td>\n      <td>1.82</td>\n      <td>4.32</td>\n      <td>1.04</td>\n      <td>2.93</td>\n      <td>735.0</td>\n      <td>0</td>\n    </tr>\n    <tr>\n      <th>...</th>\n      <td>...</td>\n      <td>...</td>\n      <td>...</td>\n      <td>...</td>\n      <td>...</td>\n      <td>...</td>\n      <td>...</td>\n      <td>...</td>\n      <td>...</td>\n      <td>...</td>\n      <td>...</td>\n      <td>...</td>\n      <td>...</td>\n      <td>...</td>\n    </tr>\n    <tr>\n      <th>173</th>\n      <td>13.71</td>\n      <td>5.65</td>\n      <td>2.45</td>\n      <td>20.5</td>\n      <td>95.0</td>\n      <td>1.68</td>\n      <td>0.61</td>\n      <td>0.52</td>\n      <td>1.06</td>\n      <td>7.70</td>\n      <td>0.64</td>\n      <td>1.74</td>\n      <td>740.0</td>\n      <td>2</td>\n    </tr>\n    <tr>\n      <th>174</th>\n      <td>13.40</td>\n      <td>3.91</td>\n      <td>2.48</td>\n      <td>23.0</td>\n      <td>102.0</td>\n      <td>1.80</td>\n      <td>0.75</td>\n      <td>0.43</td>\n      <td>1.41</td>\n      <td>7.30</td>\n      <td>0.70</td>\n      <td>1.56</td>\n      <td>750.0</td>\n      <td>2</td>\n    </tr>\n    <tr>\n      <th>175</th>\n      <td>13.27</td>\n      <td>4.28</td>\n      <td>2.26</td>\n      <td>20.0</td>\n      <td>120.0</td>\n      <td>1.59</td>\n      <td>0.69</td>\n      <td>0.43</td>\n      <td>1.35</td>\n      <td>10.20</td>\n      <td>0.59</td>\n      <td>1.56</td>\n      <td>835.0</td>\n      <td>2</td>\n    </tr>\n    <tr>\n      <th>176</th>\n      <td>13.17</td>\n      <td>2.59</td>\n      <td>2.37</td>\n      <td>20.0</td>\n      <td>120.0</td>\n      <td>1.65</td>\n      <td>0.68</td>\n      <td>0.53</td>\n      <td>1.46</td>\n      <td>9.30</td>\n      <td>0.60</td>\n      <td>1.62</td>\n      <td>840.0</td>\n      <td>2</td>\n    </tr>\n    <tr>\n      <th>177</th>\n      <td>14.13</td>\n      <td>4.10</td>\n      <td>2.74</td>\n      <td>24.5</td>\n      <td>96.0</td>\n      <td>2.05</td>\n      <td>0.76</td>\n      <td>0.56</td>\n      <td>1.35</td>\n      <td>9.20</td>\n      <td>0.61</td>\n      <td>1.60</td>\n      <td>560.0</td>\n      <td>2</td>\n    </tr>\n  </tbody>\n</table>\n<p>178 rows × 14 columns</p>\n</div>"
     },
     "execution_count": 17,
     "metadata": {},
     "output_type": "execute_result"
    }
   ],
   "source": [
    "pd_wine.target = pd_wine.target.astype(int)\n",
    "pd_wine"
   ]
  },
  {
   "cell_type": "code",
   "execution_count": 18,
   "metadata": {},
   "outputs": [],
   "source": [
    "pd_wine.to_csv(\"cache/wine.csv\")\n",
    "with open(\"real/wine.json\", \"w\") as f:\n",
    "    json.dump({\n",
    "        \"path\": \"wine.csv\",\n",
    "        \"target\": \"target\",\n",
    "        \"categorical\": [],\n",
    "        \"ignore\": [],\n",
    "        \"numerical\": wine.feature_names,\n",
    "        \"ordinal\": {},\n",
    "        \"classification\": True\n",
    "    }, f)"
   ]
  },
  {
   "source": [
    "Boston"
   ],
   "cell_type": "markdown",
   "metadata": {}
  },
  {
   "cell_type": "code",
   "execution_count": 12,
   "metadata": {},
   "outputs": [
    {
     "data": {
      "text/plain": "{'data': array([[6.3200e-03, 1.8000e+01, 2.3100e+00, ..., 1.5300e+01, 3.9690e+02,\n         4.9800e+00],\n        [2.7310e-02, 0.0000e+00, 7.0700e+00, ..., 1.7800e+01, 3.9690e+02,\n         9.1400e+00],\n        [2.7290e-02, 0.0000e+00, 7.0700e+00, ..., 1.7800e+01, 3.9283e+02,\n         4.0300e+00],\n        ...,\n        [6.0760e-02, 0.0000e+00, 1.1930e+01, ..., 2.1000e+01, 3.9690e+02,\n         5.6400e+00],\n        [1.0959e-01, 0.0000e+00, 1.1930e+01, ..., 2.1000e+01, 3.9345e+02,\n         6.4800e+00],\n        [4.7410e-02, 0.0000e+00, 1.1930e+01, ..., 2.1000e+01, 3.9690e+02,\n         7.8800e+00]]),\n 'target': array([24. , 21.6, 34.7, 33.4, 36.2, 28.7, 22.9, 27.1, 16.5, 18.9, 15. ,\n        18.9, 21.7, 20.4, 18.2, 19.9, 23.1, 17.5, 20.2, 18.2, 13.6, 19.6,\n        15.2, 14.5, 15.6, 13.9, 16.6, 14.8, 18.4, 21. , 12.7, 14.5, 13.2,\n        13.1, 13.5, 18.9, 20. , 21. , 24.7, 30.8, 34.9, 26.6, 25.3, 24.7,\n        21.2, 19.3, 20. , 16.6, 14.4, 19.4, 19.7, 20.5, 25. , 23.4, 18.9,\n        35.4, 24.7, 31.6, 23.3, 19.6, 18.7, 16. , 22.2, 25. , 33. , 23.5,\n        19.4, 22. , 17.4, 20.9, 24.2, 21.7, 22.8, 23.4, 24.1, 21.4, 20. ,\n        20.8, 21.2, 20.3, 28. , 23.9, 24.8, 22.9, 23.9, 26.6, 22.5, 22.2,\n        23.6, 28.7, 22.6, 22. , 22.9, 25. , 20.6, 28.4, 21.4, 38.7, 43.8,\n        33.2, 27.5, 26.5, 18.6, 19.3, 20.1, 19.5, 19.5, 20.4, 19.8, 19.4,\n        21.7, 22.8, 18.8, 18.7, 18.5, 18.3, 21.2, 19.2, 20.4, 19.3, 22. ,\n        20.3, 20.5, 17.3, 18.8, 21.4, 15.7, 16.2, 18. , 14.3, 19.2, 19.6,\n        23. , 18.4, 15.6, 18.1, 17.4, 17.1, 13.3, 17.8, 14. , 14.4, 13.4,\n        15.6, 11.8, 13.8, 15.6, 14.6, 17.8, 15.4, 21.5, 19.6, 15.3, 19.4,\n        17. , 15.6, 13.1, 41.3, 24.3, 23.3, 27. , 50. , 50. , 50. , 22.7,\n        25. , 50. , 23.8, 23.8, 22.3, 17.4, 19.1, 23.1, 23.6, 22.6, 29.4,\n        23.2, 24.6, 29.9, 37.2, 39.8, 36.2, 37.9, 32.5, 26.4, 29.6, 50. ,\n        32. , 29.8, 34.9, 37. , 30.5, 36.4, 31.1, 29.1, 50. , 33.3, 30.3,\n        34.6, 34.9, 32.9, 24.1, 42.3, 48.5, 50. , 22.6, 24.4, 22.5, 24.4,\n        20. , 21.7, 19.3, 22.4, 28.1, 23.7, 25. , 23.3, 28.7, 21.5, 23. ,\n        26.7, 21.7, 27.5, 30.1, 44.8, 50. , 37.6, 31.6, 46.7, 31.5, 24.3,\n        31.7, 41.7, 48.3, 29. , 24. , 25.1, 31.5, 23.7, 23.3, 22. , 20.1,\n        22.2, 23.7, 17.6, 18.5, 24.3, 20.5, 24.5, 26.2, 24.4, 24.8, 29.6,\n        42.8, 21.9, 20.9, 44. , 50. , 36. , 30.1, 33.8, 43.1, 48.8, 31. ,\n        36.5, 22.8, 30.7, 50. , 43.5, 20.7, 21.1, 25.2, 24.4, 35.2, 32.4,\n        32. , 33.2, 33.1, 29.1, 35.1, 45.4, 35.4, 46. , 50. , 32.2, 22. ,\n        20.1, 23.2, 22.3, 24.8, 28.5, 37.3, 27.9, 23.9, 21.7, 28.6, 27.1,\n        20.3, 22.5, 29. , 24.8, 22. , 26.4, 33.1, 36.1, 28.4, 33.4, 28.2,\n        22.8, 20.3, 16.1, 22.1, 19.4, 21.6, 23.8, 16.2, 17.8, 19.8, 23.1,\n        21. , 23.8, 23.1, 20.4, 18.5, 25. , 24.6, 23. , 22.2, 19.3, 22.6,\n        19.8, 17.1, 19.4, 22.2, 20.7, 21.1, 19.5, 18.5, 20.6, 19. , 18.7,\n        32.7, 16.5, 23.9, 31.2, 17.5, 17.2, 23.1, 24.5, 26.6, 22.9, 24.1,\n        18.6, 30.1, 18.2, 20.6, 17.8, 21.7, 22.7, 22.6, 25. , 19.9, 20.8,\n        16.8, 21.9, 27.5, 21.9, 23.1, 50. , 50. , 50. , 50. , 50. , 13.8,\n        13.8, 15. , 13.9, 13.3, 13.1, 10.2, 10.4, 10.9, 11.3, 12.3,  8.8,\n         7.2, 10.5,  7.4, 10.2, 11.5, 15.1, 23.2,  9.7, 13.8, 12.7, 13.1,\n        12.5,  8.5,  5. ,  6.3,  5.6,  7.2, 12.1,  8.3,  8.5,  5. , 11.9,\n        27.9, 17.2, 27.5, 15. , 17.2, 17.9, 16.3,  7. ,  7.2,  7.5, 10.4,\n         8.8,  8.4, 16.7, 14.2, 20.8, 13.4, 11.7,  8.3, 10.2, 10.9, 11. ,\n         9.5, 14.5, 14.1, 16.1, 14.3, 11.7, 13.4,  9.6,  8.7,  8.4, 12.8,\n        10.5, 17.1, 18.4, 15.4, 10.8, 11.8, 14.9, 12.6, 14.1, 13. , 13.4,\n        15.2, 16.1, 17.8, 14.9, 14.1, 12.7, 13.5, 14.9, 20. , 16.4, 17.7,\n        19.5, 20.2, 21.4, 19.9, 19. , 19.1, 19.1, 20.1, 19.9, 19.6, 23.2,\n        29.8, 13.8, 13.3, 16.7, 12. , 14.6, 21.4, 23. , 23.7, 25. , 21.8,\n        20.6, 21.2, 19.1, 20.6, 15.2,  7. ,  8.1, 13.6, 20.1, 21.8, 24.5,\n        23.1, 19.7, 18.3, 21.2, 17.5, 16.8, 22.4, 20.6, 23.9, 22. , 11.9]),\n 'feature_names': array(['CRIM', 'ZN', 'INDUS', 'CHAS', 'NOX', 'RM', 'AGE', 'DIS', 'RAD',\n        'TAX', 'PTRATIO', 'B', 'LSTAT'], dtype='<U7'),\n 'DESCR': \".. _boston_dataset:\\n\\nBoston house prices dataset\\n---------------------------\\n\\n**Data Set Characteristics:**  \\n\\n    :Number of Instances: 506 \\n\\n    :Number of Attributes: 13 numeric/categorical predictive. Median Value (attribute 14) is usually the target.\\n\\n    :Attribute Information (in order):\\n        - CRIM     per capita crime rate by town\\n        - ZN       proportion of residential land zoned for lots over 25,000 sq.ft.\\n        - INDUS    proportion of non-retail business acres per town\\n        - CHAS     Charles River dummy variable (= 1 if tract bounds river; 0 otherwise)\\n        - NOX      nitric oxides concentration (parts per 10 million)\\n        - RM       average number of rooms per dwelling\\n        - AGE      proportion of owner-occupied units built prior to 1940\\n        - DIS      weighted distances to five Boston employment centres\\n        - RAD      index of accessibility to radial highways\\n        - TAX      full-value property-tax rate per $10,000\\n        - PTRATIO  pupil-teacher ratio by town\\n        - B        1000(Bk - 0.63)^2 where Bk is the proportion of blacks by town\\n        - LSTAT    % lower status of the population\\n        - MEDV     Median value of owner-occupied homes in $1000's\\n\\n    :Missing Attribute Values: None\\n\\n    :Creator: Harrison, D. and Rubinfeld, D.L.\\n\\nThis is a copy of UCI ML housing dataset.\\nhttps://archive.ics.uci.edu/ml/machine-learning-databases/housing/\\n\\n\\nThis dataset was taken from the StatLib library which is maintained at Carnegie Mellon University.\\n\\nThe Boston house-price data of Harrison, D. and Rubinfeld, D.L. 'Hedonic\\nprices and the demand for clean air', J. Environ. Economics & Management,\\nvol.5, 81-102, 1978.   Used in Belsley, Kuh & Welsch, 'Regression diagnostics\\n...', Wiley, 1980.   N.B. Various transformations are used in the table on\\npages 244-261 of the latter.\\n\\nThe Boston house-price data has been used in many machine learning papers that address regression\\nproblems.   \\n     \\n.. topic:: References\\n\\n   - Belsley, Kuh & Welsch, 'Regression diagnostics: Identifying Influential Data and Sources of Collinearity', Wiley, 1980. 244-261.\\n   - Quinlan,R. (1993). Combining Instance-Based and Model-Based Learning. In Proceedings on the Tenth International Conference of Machine Learning, 236-243, University of Massachusetts, Amherst. Morgan Kaufmann.\\n\",\n 'filename': 'c:\\\\code\\\\personal\\\\afsfc\\\\venv\\\\lib\\\\site-packages\\\\sklearn\\\\datasets\\\\data\\\\boston_house_prices.csv'}"
     },
     "execution_count": 12,
     "metadata": {},
     "output_type": "execute_result"
    }
   ],
   "source": [
    "boston = datasets.load_boston()\n",
    "boston"
   ]
  },
  {
   "cell_type": "code",
   "execution_count": 13,
   "metadata": {},
   "outputs": [],
   "source": [
    "pd_boston = pd.DataFrame(\n",
    "    data=np.c_[boston.data, boston.target],\n",
    "    columns=list(boston.feature_names) + [\"target\"]\n",
    ")"
   ]
  },
  {
   "cell_type": "code",
   "execution_count": 14,
   "metadata": {},
   "outputs": [],
   "source": [
    "pd_boston.to_csv(\"cache/boston.csv\")\n",
    "with open(\"real/boston.json\", \"w\") as f:\n",
    "    json.dump({\n",
    "        \"path\": \"boston.csv\",\n",
    "        \"target\": \"target\",\n",
    "        \"categorical\": [],\n",
    "        \"ignore\": [],\n",
    "        \"numerical\": list(boston.feature_names),\n",
    "        \"ordinal\": {},\n",
    "        \"classification\": False\n",
    "    }, f)"
   ]
  },
  {
   "source": [
    "Synthetic"
   ],
   "cell_type": "markdown",
   "metadata": {}
  },
  {
   "cell_type": "code",
   "execution_count": null,
   "metadata": {},
   "outputs": [],
   "source": []
  }
 ]
}